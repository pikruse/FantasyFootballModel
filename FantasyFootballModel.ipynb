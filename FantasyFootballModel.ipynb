{
 "cells": [
  {
   "cell_type": "code",
   "execution_count": 1,
   "metadata": {},
   "outputs": [],
   "source": [
    "# install necessary packages\n",
    "import nfl_data_py as nfl\n",
    "import datetime\n",
    "import pandas as pd\n",
    "import numpy as np\n",
    "import matplotlib.pyplot as plt"
   ]
  },
  {
   "cell_type": "code",
   "execution_count": 2,
   "metadata": {},
   "outputs": [
    {
     "name": "stdout",
     "output_type": "stream",
     "text": [
      "Downcasting floats.\n",
      "Downcasting floats.\n"
     ]
    }
   ],
   "source": [
    "# extract pbp, weekly data\n",
    "weekly_data_test = nfl.import_weekly_data([2023])\n",
    "weekly_data_train = nfl.import_weekly_data([2022, 2021, 2020, 2019])"
   ]
  },
  {
   "cell_type": "code",
   "execution_count": 3,
   "metadata": {},
   "outputs": [
    {
     "data": {
      "text/html": [
       "<div>\n",
       "<style scoped>\n",
       "    .dataframe tbody tr th:only-of-type {\n",
       "        vertical-align: middle;\n",
       "    }\n",
       "\n",
       "    .dataframe tbody tr th {\n",
       "        vertical-align: top;\n",
       "    }\n",
       "\n",
       "    .dataframe thead th {\n",
       "        text-align: right;\n",
       "    }\n",
       "</style>\n",
       "<table border=\"1\" class=\"dataframe\">\n",
       "  <thead>\n",
       "    <tr style=\"text-align: right;\">\n",
       "      <th></th>\n",
       "      <th>player_id</th>\n",
       "      <th>player_name</th>\n",
       "      <th>player_display_name</th>\n",
       "      <th>position</th>\n",
       "      <th>position_group</th>\n",
       "      <th>headshot_url</th>\n",
       "      <th>recent_team</th>\n",
       "      <th>season</th>\n",
       "      <th>week</th>\n",
       "      <th>season_type</th>\n",
       "      <th>...</th>\n",
       "      <th>receiving_first_downs</th>\n",
       "      <th>receiving_epa</th>\n",
       "      <th>receiving_2pt_conversions</th>\n",
       "      <th>racr</th>\n",
       "      <th>target_share</th>\n",
       "      <th>air_yards_share</th>\n",
       "      <th>wopr</th>\n",
       "      <th>special_teams_tds</th>\n",
       "      <th>fantasy_points</th>\n",
       "      <th>fantasy_points_ppr</th>\n",
       "    </tr>\n",
       "  </thead>\n",
       "  <tbody>\n",
       "    <tr>\n",
       "      <th>0</th>\n",
       "      <td>00-0023459</td>\n",
       "      <td>A.Rodgers</td>\n",
       "      <td>Aaron Rodgers</td>\n",
       "      <td>QB</td>\n",
       "      <td>QB</td>\n",
       "      <td>https://static.www.nfl.com/image/private/f_aut...</td>\n",
       "      <td>NYJ</td>\n",
       "      <td>2023</td>\n",
       "      <td>1</td>\n",
       "      <td>REG</td>\n",
       "      <td>...</td>\n",
       "      <td>0.0</td>\n",
       "      <td>NaN</td>\n",
       "      <td>0</td>\n",
       "      <td>NaN</td>\n",
       "      <td>NaN</td>\n",
       "      <td>NaN</td>\n",
       "      <td>NaN</td>\n",
       "      <td>0.0</td>\n",
       "      <td>0.0</td>\n",
       "      <td>0.0</td>\n",
       "    </tr>\n",
       "    <tr>\n",
       "      <th>1</th>\n",
       "      <td>00-0024243</td>\n",
       "      <td>M.Lewis</td>\n",
       "      <td>Marcedes Lewis</td>\n",
       "      <td>TE</td>\n",
       "      <td>TE</td>\n",
       "      <td>https://static.www.nfl.com/image/private/f_aut...</td>\n",
       "      <td>CHI</td>\n",
       "      <td>2023</td>\n",
       "      <td>4</td>\n",
       "      <td>REG</td>\n",
       "      <td>...</td>\n",
       "      <td>0.0</td>\n",
       "      <td>0.483465</td>\n",
       "      <td>0</td>\n",
       "      <td>0.0</td>\n",
       "      <td>0.031250</td>\n",
       "      <td>-0.012397</td>\n",
       "      <td>0.038197</td>\n",
       "      <td>0.0</td>\n",
       "      <td>0.8</td>\n",
       "      <td>1.8</td>\n",
       "    </tr>\n",
       "    <tr>\n",
       "      <th>2</th>\n",
       "      <td>00-0024243</td>\n",
       "      <td>M.Lewis</td>\n",
       "      <td>Marcedes Lewis</td>\n",
       "      <td>TE</td>\n",
       "      <td>TE</td>\n",
       "      <td>https://static.www.nfl.com/image/private/f_aut...</td>\n",
       "      <td>CHI</td>\n",
       "      <td>2023</td>\n",
       "      <td>7</td>\n",
       "      <td>REG</td>\n",
       "      <td>...</td>\n",
       "      <td>1.0</td>\n",
       "      <td>1.437224</td>\n",
       "      <td>0</td>\n",
       "      <td>3.2</td>\n",
       "      <td>0.034483</td>\n",
       "      <td>0.094340</td>\n",
       "      <td>0.117762</td>\n",
       "      <td>0.0</td>\n",
       "      <td>1.6</td>\n",
       "      <td>2.6</td>\n",
       "    </tr>\n",
       "    <tr>\n",
       "      <th>3</th>\n",
       "      <td>00-0024243</td>\n",
       "      <td>M.Lewis</td>\n",
       "      <td>Marcedes Lewis</td>\n",
       "      <td>TE</td>\n",
       "      <td>TE</td>\n",
       "      <td>https://static.www.nfl.com/image/private/f_aut...</td>\n",
       "      <td>CHI</td>\n",
       "      <td>2023</td>\n",
       "      <td>11</td>\n",
       "      <td>REG</td>\n",
       "      <td>...</td>\n",
       "      <td>0.0</td>\n",
       "      <td>-0.547367</td>\n",
       "      <td>0</td>\n",
       "      <td>0.0</td>\n",
       "      <td>0.045455</td>\n",
       "      <td>0.036885</td>\n",
       "      <td>0.094001</td>\n",
       "      <td>0.0</td>\n",
       "      <td>0.0</td>\n",
       "      <td>0.0</td>\n",
       "    </tr>\n",
       "    <tr>\n",
       "      <th>4</th>\n",
       "      <td>00-0024243</td>\n",
       "      <td>M.Lewis</td>\n",
       "      <td>Marcedes Lewis</td>\n",
       "      <td>TE</td>\n",
       "      <td>TE</td>\n",
       "      <td>https://static.www.nfl.com/image/private/f_aut...</td>\n",
       "      <td>CHI</td>\n",
       "      <td>2023</td>\n",
       "      <td>14</td>\n",
       "      <td>REG</td>\n",
       "      <td>...</td>\n",
       "      <td>0.0</td>\n",
       "      <td>-0.190257</td>\n",
       "      <td>0</td>\n",
       "      <td>0.0</td>\n",
       "      <td>0.032258</td>\n",
       "      <td>-0.013514</td>\n",
       "      <td>0.038928</td>\n",
       "      <td>0.0</td>\n",
       "      <td>0.4</td>\n",
       "      <td>1.4</td>\n",
       "    </tr>\n",
       "  </tbody>\n",
       "</table>\n",
       "<p>5 rows × 53 columns</p>\n",
       "</div>"
      ],
      "text/plain": [
       "    player_id player_name player_display_name position position_group  \\\n",
       "0  00-0023459   A.Rodgers       Aaron Rodgers       QB             QB   \n",
       "1  00-0024243     M.Lewis      Marcedes Lewis       TE             TE   \n",
       "2  00-0024243     M.Lewis      Marcedes Lewis       TE             TE   \n",
       "3  00-0024243     M.Lewis      Marcedes Lewis       TE             TE   \n",
       "4  00-0024243     M.Lewis      Marcedes Lewis       TE             TE   \n",
       "\n",
       "                                        headshot_url recent_team  season  \\\n",
       "0  https://static.www.nfl.com/image/private/f_aut...         NYJ    2023   \n",
       "1  https://static.www.nfl.com/image/private/f_aut...         CHI    2023   \n",
       "2  https://static.www.nfl.com/image/private/f_aut...         CHI    2023   \n",
       "3  https://static.www.nfl.com/image/private/f_aut...         CHI    2023   \n",
       "4  https://static.www.nfl.com/image/private/f_aut...         CHI    2023   \n",
       "\n",
       "   week season_type  ... receiving_first_downs  receiving_epa  \\\n",
       "0     1         REG  ...                   0.0            NaN   \n",
       "1     4         REG  ...                   0.0       0.483465   \n",
       "2     7         REG  ...                   1.0       1.437224   \n",
       "3    11         REG  ...                   0.0      -0.547367   \n",
       "4    14         REG  ...                   0.0      -0.190257   \n",
       "\n",
       "   receiving_2pt_conversions  racr  target_share  air_yards_share      wopr  \\\n",
       "0                          0   NaN           NaN              NaN       NaN   \n",
       "1                          0   0.0      0.031250        -0.012397  0.038197   \n",
       "2                          0   3.2      0.034483         0.094340  0.117762   \n",
       "3                          0   0.0      0.045455         0.036885  0.094001   \n",
       "4                          0   0.0      0.032258        -0.013514  0.038928   \n",
       "\n",
       "   special_teams_tds  fantasy_points  fantasy_points_ppr  \n",
       "0                0.0             0.0                 0.0  \n",
       "1                0.0             0.8                 1.8  \n",
       "2                0.0             1.6                 2.6  \n",
       "3                0.0             0.0                 0.0  \n",
       "4                0.0             0.4                 1.4  \n",
       "\n",
       "[5 rows x 53 columns]"
      ]
     },
     "execution_count": 3,
     "metadata": {},
     "output_type": "execute_result"
    }
   ],
   "source": [
    "# view head of data\n",
    "weekly_data_test.head()"
   ]
  },
  {
   "cell_type": "code",
   "execution_count": 4,
   "metadata": {},
   "outputs": [
    {
     "data": {
      "text/plain": [
       "array(['QB', 'TE', 'P', 'WR', 'FB', 'RB', 'T', 'OLB', 'ILB', 'CB', 'FS',\n",
       "       'DT', 'G', 'SS', 'MLB'], dtype=object)"
      ]
     },
     "execution_count": 4,
     "metadata": {},
     "output_type": "execute_result"
    }
   ],
   "source": [
    "# view various positions\n",
    "weekly_data_test['position'].unique()"
   ]
  },
  {
   "cell_type": "code",
   "execution_count": 5,
   "metadata": {},
   "outputs": [],
   "source": [
    "# preprocess player id to be int\n",
    "weekly_data_test['player_id'] = [int(x.split('-')[0] + x.split('-')[1]) for x in weekly_data_test['player_id']]\n",
    "weekly_data_train['player_id'] = [int(x.split('-')[0] + x.split('-')[1]) for x in weekly_data_train['player_id']]"
   ]
  },
  {
   "cell_type": "code",
   "execution_count": 6,
   "metadata": {},
   "outputs": [
    {
     "data": {
      "text/plain": [
       "Index(['player_id', 'player_name', 'player_display_name', 'position',\n",
       "       'position_group', 'headshot_url', 'recent_team', 'season', 'week',\n",
       "       'season_type', 'completions', 'attempts', 'passing_yards',\n",
       "       'passing_tds', 'interceptions', 'sacks', 'sack_yards', 'sack_fumbles',\n",
       "       'sack_fumbles_lost', 'passing_air_yards', 'passing_yards_after_catch',\n",
       "       'passing_first_downs', 'passing_epa', 'passing_2pt_conversions', 'pacr',\n",
       "       'dakota', 'carries', 'rushing_yards', 'rushing_tds', 'rushing_fumbles',\n",
       "       'rushing_fumbles_lost', 'rushing_first_downs', 'rushing_epa',\n",
       "       'rushing_2pt_conversions', 'receptions', 'targets', 'receiving_yards',\n",
       "       'receiving_tds', 'receiving_fumbles', 'receiving_fumbles_lost',\n",
       "       'receiving_air_yards', 'receiving_yards_after_catch',\n",
       "       'receiving_first_downs', 'receiving_epa', 'receiving_2pt_conversions',\n",
       "       'racr', 'target_share', 'air_yards_share', 'wopr', 'special_teams_tds',\n",
       "       'fantasy_points', 'fantasy_points_ppr'],\n",
       "      dtype='object')"
      ]
     },
     "execution_count": 6,
     "metadata": {},
     "output_type": "execute_result"
    }
   ],
   "source": [
    "# show cols in weekly data\n",
    "nfl.see_weekly_cols()"
   ]
  },
  {
   "cell_type": "markdown",
   "metadata": {},
   "source": [
    "# Filter Variables from Entire Data"
   ]
  },
  {
   "cell_type": "code",
   "execution_count": 7,
   "metadata": {},
   "outputs": [],
   "source": [
    "# drop cols that are not needed in any dataframe\n",
    "cols_to_drop = [\n",
    "                'player_display_name',\n",
    "                'position_group',\n",
    "                'headshot_url',\n",
    "                'season_type',\n",
    "                'receiving_2pt_conversions',\n",
    "                'sacks',\n",
    "                'sack_yards',\n",
    "                'sack_fumbles',\n",
    "                'sack_fumbles_lost',\n",
    "                'receiving_fumbles_lost',\n",
    "                'receiving_fumbles',\n",
    "                'rushing_fumbles',\n",
    "                'rushing_fumbles_lost',\n",
    "                'special_teams_tds',\n",
    "                ]\n",
    "weekly_data_test.drop(cols_to_drop, axis=1, inplace=True)\n",
    "weekly_data_train.drop(cols_to_drop, axis=1, inplace=True)"
   ]
  },
  {
   "cell_type": "code",
   "execution_count": 8,
   "metadata": {},
   "outputs": [
    {
     "data": {
      "text/plain": [
       "Index(['player_id', 'player_name', 'position', 'recent_team', 'season', 'week',\n",
       "       'opponent_team', 'completions', 'attempts', 'passing_yards',\n",
       "       'passing_tds', 'interceptions', 'passing_air_yards',\n",
       "       'passing_yards_after_catch', 'passing_first_downs', 'passing_epa',\n",
       "       'passing_2pt_conversions', 'pacr', 'dakota', 'carries', 'rushing_yards',\n",
       "       'rushing_tds', 'rushing_first_downs', 'rushing_epa',\n",
       "       'rushing_2pt_conversions', 'receptions', 'targets', 'receiving_yards',\n",
       "       'receiving_tds', 'receiving_air_yards', 'receiving_yards_after_catch',\n",
       "       'receiving_first_downs', 'receiving_epa', 'racr', 'target_share',\n",
       "       'air_yards_share', 'wopr', 'fantasy_points', 'fantasy_points_ppr'],\n",
       "      dtype='object')"
      ]
     },
     "execution_count": 8,
     "metadata": {},
     "output_type": "execute_result"
    }
   ],
   "source": [
    "# check that cols were dropped\n",
    "weekly_data_test.columns"
   ]
  },
  {
   "cell_type": "markdown",
   "metadata": {},
   "source": [
    "## Filter by Position"
   ]
  },
  {
   "cell_type": "code",
   "execution_count": 9,
   "metadata": {},
   "outputs": [],
   "source": [
    "#QB\n",
    "qb_train = weekly_data_train[weekly_data_train[\"position\"] == \"QB\" ]\n",
    "qb_test = weekly_data_test[weekly_data_test[\"position\"] == \"QB\"]\n",
    "\n",
    "#RB\n",
    "rb_train = weekly_data_train[weekly_data_train[\"position\"] == \"RB\"]\n",
    "rb_test = weekly_data_test[weekly_data_test[\"position\"] == \"RB\"]\n",
    "\n",
    "#WR\n",
    "wr_train = weekly_data_train[weekly_data_train[\"position\"] == \"WR\"]\n",
    "wr_test = weekly_data_test[weekly_data_test[\"position\"] == \"WR\"]\n",
    "\n",
    "#TE\n",
    "te_train = weekly_data_train[weekly_data_train[\"position\"] == \"TE\"]\n",
    "te_test = weekly_data_test[weekly_data_test[\"position\"] == \"TE\"]\n",
    "\n",
    "#FLEX\n",
    "flex_list = [\"RB\", \"WR\", \"TE\"]\n",
    "flex_train = weekly_data_train[weekly_data_train[\"position\"].isin(flex_list)]\n",
    "flex_test = weekly_data_test[weekly_data_test[\"position\"].isin(flex_list)]"
   ]
  },
  {
   "cell_type": "code",
   "execution_count": 10,
   "metadata": {},
   "outputs": [
    {
     "data": {
      "text/plain": [
       "array(['TE', 'WR', 'RB'], dtype=object)"
      ]
     },
     "execution_count": 10,
     "metadata": {},
     "output_type": "execute_result"
    }
   ],
   "source": [
    "# check that the flex position is correct\n",
    "flex_train[\"position\"].unique()"
   ]
  },
  {
   "cell_type": "markdown",
   "metadata": {},
   "source": [
    "## Drop Cols by Position"
   ]
  },
  {
   "cell_type": "code",
   "execution_count": 11,
   "metadata": {},
   "outputs": [],
   "source": [
    "# define qb cols to drop (all receiving-related cols)\n",
    "qb_cols_to_drop = ['position',\n",
    "                   'receptions',\n",
    "                   'targets',\n",
    "                   'receiving_yards',\n",
    "                   'receiving_tds',\n",
    "                   'receiving_air_yards',\n",
    "                   'receiving_yards_after_catch',\n",
    "                   'receiving_first_downs',\n",
    "                   'receiving_epa',\n",
    "                   'racr',\n",
    "                   'target_share',\n",
    "                   'air_yards_share',\n",
    "                   'wopr'\n",
    "                   ]\n",
    "qb_train = qb_train.drop(qb_cols_to_drop, axis=1)\n",
    "qb_test = qb_test.drop(qb_cols_to_drop + ['opponent_team'], axis=1)"
   ]
  },
  {
   "cell_type": "code",
   "execution_count": 12,
   "metadata": {},
   "outputs": [],
   "source": [
    "# define rb cols to drop (all passing-related cols)\n",
    "rb_cols_to_drop = ['position',\n",
    "                   'completions',\n",
    "                   'attempts',\n",
    "                   'passing_yards',\n",
    "                   'passing_tds',\n",
    "                   'passing_air_yards',\n",
    "                   'passing_yards_after_catch',\n",
    "                   'passing_first_downs',\n",
    "                   'passing_epa',\n",
    "                   'passing_2pt_conversions',\n",
    "                   'pacr',\n",
    "                   'dakota',\n",
    "                   'interceptions'\n",
    "                   ]\n",
    "rb_train = rb_train.drop(rb_cols_to_drop, axis=1)\n",
    "rb_test = rb_test.drop(rb_cols_to_drop + ['opponent_team'], axis=1)"
   ]
  },
  {
   "cell_type": "code",
   "execution_count": 13,
   "metadata": {},
   "outputs": [],
   "source": [
    "# define wr cols to drop (all passing, rushing-related cols)\n",
    "wr_cols_to_drop = ['position',\n",
    "                   'completions',\n",
    "                   'attempts',\n",
    "                   'passing_yards',\n",
    "                   'passing_tds',\n",
    "                   'passing_air_yards',\n",
    "                   'passing_yards_after_catch',\n",
    "                   'passing_first_downs',\n",
    "                   'passing_epa',\n",
    "                   'passing_2pt_conversions',\n",
    "                   'pacr',\n",
    "                   'dakota',\n",
    "                   'carries',\n",
    "                   'rushing_yards',\n",
    "                   'rushing_tds',\n",
    "                   'rushing_first_downs',\n",
    "                   'rushing_epa',\n",
    "                   'rushing_2pt_conversions',\n",
    "                   'interceptions'\n",
    "                   ]\n",
    "wr_train = wr_train.drop(wr_cols_to_drop, axis=1)\n",
    "wr_test = wr_test.drop(wr_cols_to_drop + ['opponent_team'], axis=1)"
   ]
  },
  {
   "cell_type": "code",
   "execution_count": 14,
   "metadata": {},
   "outputs": [],
   "source": [
    "# define te cols to drop (all passing, rushing-related cols)\n",
    "te_cols_to_drop = ['position',\n",
    "                   'completions',\n",
    "                   'attempts',\n",
    "                   'passing_yards',\n",
    "                   'passing_tds',\n",
    "                   'passing_air_yards',\n",
    "                   'passing_yards_after_catch',\n",
    "                   'passing_first_downs',\n",
    "                   'passing_epa',\n",
    "                   'passing_2pt_conversions',\n",
    "                   'pacr',\n",
    "                   'dakota',\n",
    "                   'carries',\n",
    "                   'rushing_yards',\n",
    "                   'rushing_tds',\n",
    "                   'rushing_first_downs',\n",
    "                   'rushing_epa',\n",
    "                   'rushing_2pt_conversions',\n",
    "                   'interceptions'\n",
    "                   ]\n",
    "te_train = te_train.drop(te_cols_to_drop, axis=1)\n",
    "te_test = te_test.drop(te_cols_to_drop + ['opponent_team'], axis=1)"
   ]
  },
  {
   "cell_type": "code",
   "execution_count": 15,
   "metadata": {},
   "outputs": [],
   "source": [
    "# define flex cols to drop (all passing-related cols)\n",
    "flex_cols_to_drop = ['position',\n",
    "                    'completions',\n",
    "                    'attempts',\n",
    "                    'passing_yards',\n",
    "                    'passing_tds',\n",
    "                    'passing_air_yards',\n",
    "                    'passing_yards_after_catch',\n",
    "                    'passing_first_downs',\n",
    "                    'passing_epa',\n",
    "                    'passing_2pt_conversions',\n",
    "                    'pacr',\n",
    "                    'dakota',\n",
    "                    'interceptions'\n",
    "                   ]\n",
    "flex_train = flex_train.drop(flex_cols_to_drop, axis=1)\n",
    "flex_test = flex_test.drop(flex_cols_to_drop + ['opponent_team'], axis=1)"
   ]
  },
  {
   "cell_type": "markdown",
   "metadata": {},
   "source": [
    "# Other Preprocessing"
   ]
  },
  {
   "cell_type": "code",
   "execution_count": 16,
   "metadata": {},
   "outputs": [],
   "source": [
    "# change categorical QB data cols to one-hot encoding\n",
    "qb_train = pd.get_dummies(qb_train, columns=['recent_team'])\n",
    "qb_test = pd.get_dummies(qb_test, columns=['recent_team'])"
   ]
  },
  {
   "cell_type": "code",
   "execution_count": 17,
   "metadata": {},
   "outputs": [],
   "source": [
    "# change categorical RB data cols to one-hot encoding\n",
    "rb_train = pd.get_dummies(rb_train, columns=['recent_team'])\n",
    "rb_test = pd.get_dummies(rb_test, columns=['recent_team'])"
   ]
  },
  {
   "cell_type": "code",
   "execution_count": 18,
   "metadata": {},
   "outputs": [],
   "source": [
    "# change categorical WR data cols to one-hot encoding\n",
    "wr_train = pd.get_dummies(wr_train, columns=['recent_team'])\n",
    "wr_test = pd.get_dummies(wr_test, columns=['recent_team'])"
   ]
  },
  {
   "cell_type": "code",
   "execution_count": 19,
   "metadata": {},
   "outputs": [],
   "source": [
    "# change categorical TE data cols to one-hot encoding\n",
    "te_train = pd.get_dummies(te_train, columns=['recent_team'])\n",
    "te_test = pd.get_dummies(te_test, columns=['recent_team'])"
   ]
  },
  {
   "cell_type": "code",
   "execution_count": 20,
   "metadata": {},
   "outputs": [],
   "source": [
    "# change categorical FLEX data cols to one-hot encoding\n",
    "flex_train = pd.get_dummies(flex_train, columns=['recent_team'])\n",
    "flex_test = pd.get_dummies(flex_test, columns=['recent_team'])"
   ]
  },
  {
   "cell_type": "markdown",
   "metadata": {},
   "source": [
    "- use RMSE for standardized PPR units"
   ]
  },
  {
   "cell_type": "markdown",
   "metadata": {},
   "source": [
    "# Preprocess Data For LSTM\n",
    "- Input will be a (Num. players x Timesteps x Num. Features) shaped array \n",
    "- Output will be a (Num. players x 1) shaped array where each obs represents the current week PPR"
   ]
  },
  {
   "cell_type": "code",
   "execution_count": 21,
   "metadata": {},
   "outputs": [],
   "source": [
    "import torch"
   ]
  },
  {
   "cell_type": "code",
   "execution_count": 22,
   "metadata": {},
   "outputs": [],
   "source": [
    "# define static and dynamic fts\n",
    "qb_static_fts = ['player_id']\n",
    "qb_dynamic_fts = [x for x in qb_train.columns if x not in qb_static_fts]"
   ]
  },
  {
   "cell_type": "code",
   "execution_count": 23,
   "metadata": {},
   "outputs": [],
   "source": [
    "def create_model_input(input_df):\n",
    "\n",
    "    # find feature index of fantasy ppr (our output)\n",
    "    fantasy_ppr_idx = input_df.columns.get_loc(\"fantasy_points_ppr\")\n",
    "\n",
    "    # group the data by player\n",
    "    input_df = input_df.groupby(\"player_name\").agg(lambda x: x.tolist())\n",
    "\n",
    "    # find max number of weeks for all players in the dataset\n",
    "    max_weeks = max([len(x) for x in input_df[\"player_id\"]])\n",
    "\n",
    "    # pad each entry in the data with 0s to make them all the same length\n",
    "    input_df = input_df.apply(lambda x: x.apply(lambda y: [0] * (max_weeks - len(y)) + y))\n",
    "\n",
    "    # convert data to array and reshape to (num_players, max_weeks, num_features)\n",
    "    input_df = input_df.apply(lambda x: x.apply(lambda y: np.array(y, dtype=\"float32\").reshape(-1)))\n",
    "\n",
    "    fantasy_ppr_idx = input_df.columns.get_loc(\"fantasy_points_ppr\")\n",
    "\n",
    "    X = np.empty((input_df.shape[0], max_weeks, input_df.shape[1]))\n",
    "    for col in range(input_df.shape[1]):\n",
    "        for row in range(input_df.shape[0]):\n",
    "            X[row, :, col] = input_df.iloc[row, col]\n",
    "\n",
    "    #extract last week of fantasy ppr for each player as targets\n",
    "    Y = X[:, -1, fantasy_ppr_idx]\n",
    "\n",
    "    # drop last week of data from X\n",
    "    X = X[:, :-1, :]\n",
    "\n",
    "    return X, Y"
   ]
  },
  {
   "cell_type": "code",
   "execution_count": 24,
   "metadata": {},
   "outputs": [],
   "source": [
    "# create training and testing data for qbs\n",
    "qb_train_X, qb_train_Y = create_model_input(qb_train)\n",
    "qb_test_X, qb_test_Y = create_model_input(qb_test)"
   ]
  },
  {
   "cell_type": "code",
   "execution_count": 25,
   "metadata": {},
   "outputs": [],
   "source": [
    "# create training and testing data for rbs\n",
    "rb_train_X, rb_train_Y = create_model_input(rb_train)\n",
    "rb_test_X, rb_test_Y = create_model_input(rb_test)"
   ]
  },
  {
   "cell_type": "code",
   "execution_count": 26,
   "metadata": {},
   "outputs": [],
   "source": [
    "# create training and testing data for wrs\n",
    "wr_train_X, wr_train_Y = create_model_input(wr_train)\n",
    "wr_test_X, wr_test_Y = create_model_input(wr_test)"
   ]
  },
  {
   "cell_type": "code",
   "execution_count": 27,
   "metadata": {},
   "outputs": [],
   "source": [
    "# create training and testing data for tes\n",
    "te_train_X, te_train_Y = create_model_input(te_train)\n",
    "te_test_X, te_test_Y = create_model_input(te_test)"
   ]
  },
  {
   "cell_type": "code",
   "execution_count": 28,
   "metadata": {},
   "outputs": [],
   "source": [
    "# create training and testing data for flex\n",
    "flex_train_X, flex_train_Y = create_model_input(flex_train)\n",
    "flex_test_X, flex_test_Y = create_model_input(flex_test)"
   ]
  },
  {
   "cell_type": "markdown",
   "metadata": {},
   "source": [
    "# Modeling"
   ]
  },
  {
   "cell_type": "markdown",
   "metadata": {},
   "source": []
  }
 ],
 "metadata": {
  "kernelspec": {
   "display_name": "my_env",
   "language": "python",
   "name": "python3"
  },
  "language_info": {
   "codemirror_mode": {
    "name": "ipython",
    "version": 3
   },
   "file_extension": ".py",
   "mimetype": "text/x-python",
   "name": "python",
   "nbconvert_exporter": "python",
   "pygments_lexer": "ipython3",
   "version": "3.9.6"
  },
  "orig_nbformat": 4
 },
 "nbformat": 4,
 "nbformat_minor": 2
}
